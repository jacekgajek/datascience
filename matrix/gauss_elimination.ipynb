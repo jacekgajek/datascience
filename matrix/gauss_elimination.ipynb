{
 "cells": [
  {
   "cell_type": "markdown",
   "source": [
    "## Gauss Elimination\n",
    "Given equation\n",
    "\n",
    "$$Ax=b$$\n",
    "\n",
    "like\n",
    "\n",
    "$$\n",
    "\\begin{bmatrix}\n",
    "6 & -2 & 2 & 4\\\\\n",
    "12 & -8 & 6 & 10\\\\\n",
    "3 & -13 & 9 & 3\\\\\n",
    "-6 & 4 & 1 & -18\\\\\n",
    "\\end{bmatrix}\n",
    "\\begin{bmatrix}\n",
    "x_1\\\\\n",
    "x_2\\\\\n",
    "x_3\\\\\n",
    "x_4\n",
    "\\end{bmatrix}\n",
    "=\n",
    "\\begin{bmatrix}\n",
    "12\\\\\n",
    "34\\\\\n",
    "27\\\\\n",
    "-38\n",
    "\\end{bmatrix}\n",
    "$$\n",
    "\n",
    "the Gauss elimination turns it to an equivalent (ie having the same solution) equation\n",
    "\n",
    "$$Ux=b^\\star$$\n",
    "\n",
    "where\n",
    "\n",
    "$$\n",
    "U =\n",
    "\\begin{bmatrix}\n",
    "u_1_1 & u_1_2 & \\dots & u_1_n \\\\\n",
    "0 & u_2_2  & \\dots & u_2_n \\\\\n",
    "\\vdots & \\vdots   & \\ddots &  \\vdots & \\\\\n",
    "0& 0 & \\dots & u_n_n\\\\\n",
    "\\end{bmatrix}\n",
    "$$\n",
    "In the above example it will be\n",
    "$$\n",
    "\\begin{bmatrix}\n",
    "6 & -2 & 2 & 4\\\\\n",
    "0 & -4 & 2 & 2\\\\\n",
    "0 & 0 & 2 & -5\\\\\n",
    "0 & 0 & 0 & -3\\\\\n",
    "\\end{bmatrix}\n",
    "\\begin{bmatrix}\n",
    "x_1\\\\\n",
    "x_2\\\\\n",
    "x_3\\\\\n",
    "x_4\n",
    "\\end{bmatrix}\n",
    "=\n",
    "\\begin{bmatrix}\n",
    "12\\\\\n",
    "10\\\\\n",
    "-9\\\\\n",
    "-3\n",
    "\\end{bmatrix}\n",
    "$$\n",
    "which is very easy to solve with a backward substitution: $x_4= 1$, $2x_3-5\\cdot1 = -9$ so $x_3=-2$ etc.\n"
   ],
   "metadata": {
    "collapsed": false,
    "pycharm": {
     "name": "#%% md\n"
    }
   }
  },
  {
   "cell_type": "code",
   "execution_count": null,
   "outputs": [],
   "source": [
    "import numpy as np\n",
    "import plotly.express as px\n",
    "\n"
   ],
   "metadata": {
    "collapsed": false,
    "pycharm": {
     "name": "#%%\n"
    }
   }
  }
 ],
 "metadata": {
  "kernelspec": {
   "display_name": "Python 3",
   "language": "python",
   "name": "python3"
  },
  "language_info": {
   "codemirror_mode": {
    "name": "ipython",
    "version": 2
   },
   "file_extension": ".py",
   "mimetype": "text/x-python",
   "name": "python",
   "nbconvert_exporter": "python",
   "pygments_lexer": "ipython2",
   "version": "2.7.6"
  }
 },
 "nbformat": 4,
 "nbformat_minor": 0
}