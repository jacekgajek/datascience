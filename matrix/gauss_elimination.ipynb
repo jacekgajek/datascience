{
 "cells": [
  {
   "cell_type": "markdown",
   "source": [
    "## Gauss Elimination\n",
    "Given equation\n",
    "\n",
    "$$Ax=b$$\n",
    "\n",
    "like\n",
    "\n",
    "$$\n",
    "\\begin{bmatrix}\n",
    "6 & -2 & 2 & 4\\\\\n",
    "12 & -8 & 6 & 10\\\\\n",
    "3 & -13 & 9 & 3\\\\\n",
    "-6 & 4 & 1 & -18\\\\\n",
    "\\end{bmatrix}\n",
    "\\begin{bmatrix}\n",
    "x_1\\\\\n",
    "x_2\\\\\n",
    "x_3\\\\\n",
    "x_4\n",
    "\\end{bmatrix}\n",
    "=\n",
    "\\begin{bmatrix}\n",
    "12\\\\\n",
    "34\\\\\n",
    "27\\\\\n",
    "-38\n",
    "\\end{bmatrix}\n",
    "$$\n",
    "\n",
    "the Gauss elimination turns it to an equivalent (ie having the same solution) equation\n",
    "\n",
    "$$Ux=b^\\star$$\n",
    "\n",
    "where\n",
    "\n",
    "$$\n",
    "U =\n",
    "\\begin{bmatrix}\n",
    "u_1_1 & u_1_2 & \\dots & u_1_n \\\\\n",
    "0 & u_2_2  & \\dots & u_2_n \\\\\n",
    "\\vdots & \\vdots   & \\ddots &  \\vdots & \\\\\n",
    "0& 0 & \\dots & u_n_n\\\\\n",
    "\\end{bmatrix}\n",
    "$$\n",
    "In the above example it will be\n",
    "$$\n",
    "\\begin{bmatrix}\n",
    "6 & -2 & 2 & 4\\\\\n",
    "0 & -4 & 2 & 2\\\\\n",
    "0 & 0 & 2 & -5\\\\\n",
    "0 & 0 & 0 & -3\\\\\n",
    "\\end{bmatrix}\n",
    "\\begin{bmatrix}\n",
    "x_1\\\\\n",
    "x_2\\\\\n",
    "x_3\\\\\n",
    "x_4\n",
    "\\end{bmatrix}\n",
    "=\n",
    "\\begin{bmatrix}\n",
    "12\\\\\n",
    "10\\\\\n",
    "-9\\\\\n",
    "-3\n",
    "\\end{bmatrix}\n",
    "$$\n",
    "which is very easy to solve with a backward substitution: $x_4= 1$, $2x_3-5\\cdot1 = -9$ so $x_3=-2$ etc.\n"
   ],
   "metadata": {
    "collapsed": false,
    "pycharm": {
     "name": "#%% md\n"
    }
   }
  },
  {
   "cell_type": "code",
   "execution_count": 99,
   "outputs": [
    {
     "data": {
      "text/plain": "<IPython.core.display.Markdown object>",
      "text/markdown": "$$\\begin{align}A = \\begin{bmatrix}6.0&-2.0&2.0&4.0\\\\12.0&-8.0&6.0&10.0\\\\3.0&-13.0&9.0&3.0\\\\-6.0&4.0&1.0&-18.0\\\\\\end{bmatrix}\\end{align}$$"
     },
     "metadata": {},
     "output_type": "display_data"
    },
    {
     "data": {
      "text/plain": "<IPython.core.display.Markdown object>",
      "text/markdown": "$$\\begin{align}Ax = b\\end{align}$$"
     },
     "metadata": {},
     "output_type": "display_data"
    },
    {
     "data": {
      "text/plain": "<IPython.core.display.Markdown object>",
      "text/markdown": "$$\\begin{align}\\begin{bmatrix}6.0&-2.0&2.0&4.0\\\\0.0&-4.0&2.0&2.0\\\\0.0&0.0&2.0&-5.0\\\\0.0&0.0&0.0&-3.0\\\\\\end{bmatrix}\\cdot \\begin{bmatrix}1.0\\\\-3.0\\\\-2.0\\\\1.0\\\\\\end{bmatrix} =\\begin{bmatrix}12.0\\\\10.0\\\\-9.0\\\\-3.0\\\\\\end{bmatrix}\\end{align}$$"
     },
     "metadata": {},
     "output_type": "display_data"
    }
   ],
   "source": [
    "import numpy as np\n",
    "import plotly.express as px\n",
    "\n",
    "\n",
    "A = np.array(\n",
    "    [\n",
    "        [ 6., -2, 2, 4 ],\n",
    "        [ 12, -8, 6, 10 ],\n",
    "        [ 3, -13, 9, 3 ],\n",
    "        [ -6, 4,  1, -18 ]\n",
    "    ]\n",
    ")\n",
    "\n",
    "# U = A.copy()\n",
    "# U[2,1] = 0.5\n",
    "\n",
    "b = np.array(\n",
    "    [ 12., 34, 27, -38 ]\n",
    ")\n",
    "\n",
    "def minor(A, i, j):\n",
    "    return np.delete(np.delete(A, i, 0), j, 1)\n",
    "\n",
    "def gauss(A: np.ndarray, b: np.ndarray):\n",
    "    n, _ = np.shape(A)\n",
    "    U = A.copy()\n",
    "    L = np.diagflat([1. for _ in range(n)])\n",
    "    b1 = b.copy()\n",
    "    for i in range(n - 1): # main row\n",
    "        main_element = U[i, i]\n",
    "        for j in range(i+1, n):  # rows\n",
    "            multiplier = U[j, i] / main_element\n",
    "            for k in range(i, n):  # columns\n",
    "                U[j, k] = U[j, k] - U[i, k] * multiplier\n",
    "            b1[j] = b1[j] - b1[i] * multiplier\n",
    "            L[j, i] = multiplier\n",
    "    return L, U, b1\n",
    "\n",
    "def solve_backward_substition(A, b):\n",
    "    n, _ = np.shape(A)\n",
    "    x = np.ndarray(shape = n, dtype='float')\n",
    "    x[n - 1] =  b[n-1]/A[n-1, n-1]\n",
    "    for i in range(n-2, -1, -1):\n",
    "        summ = np.sum([A[i,j] * x[j] for j in range(i+1, n)])\n",
    "        x[i] = 1. / A[i,i] * (b[i] - summ)\n",
    "    return x\n",
    "\n",
    "\n",
    "%run ../print_utils.py\n",
    "\n",
    "printmd(\"A = \" + printmatrix(A))\n",
    "\n",
    "printmd(\"Ax = b\")\n",
    "\n",
    "L, U, b1 = gauss(A, b)\n",
    "x = solve_backward_substition(U, b1)\n",
    "\n",
    "printmd(printmatrix(U) + r\"\\cdot \" + printmatrix(np.array([x]).transpose()) + r\" =\" + printmatrix(np.array([b1]).transpose()))\n"
   ],
   "metadata": {
    "collapsed": false,
    "pycharm": {
     "name": "#%%\n"
    }
   }
  },
  {
   "cell_type": "code",
   "execution_count": 86,
   "outputs": [
    {
     "data": {
      "text/plain": "<IPython.core.display.Markdown object>",
      "text/markdown": "$$\\begin{align}\\begin{bmatrix}6.0&-2.0&2.0&4.0\\\\12.0&-8.0&6.0&10.0\\\\3.0&-13.0&9.0&3.0\\\\-6.0&4.0&1.0&-18.0\\\\\\end{bmatrix}\\end{align}$$"
     },
     "metadata": {},
     "output_type": "display_data"
    },
    {
     "name": "stdout",
     "output_type": "stream",
     "text": [
      "[ -6.   4.   1. -18.]\n"
     ]
    }
   ],
   "source": [
    "# %reset\n",
    "\n",
    "A = np.array(\n",
    "    [\n",
    "        [ 6., -2, 2, 4 ],\n",
    "        [ 12, -8, 6, 10 ],\n",
    "        [ 3, -13, 9, 3 ],\n",
    "        [ -6, 4,  1, -18 ]\n",
    "    ]\n",
    ")\n",
    "%run ../print_utils.py\n",
    "expr = printmatrix(A)\n",
    "printmd(expr)\n"
   ],
   "metadata": {
    "collapsed": false,
    "pycharm": {
     "name": "#%%\n"
    }
   }
  }
 ],
 "metadata": {
  "kernelspec": {
   "display_name": "Python 3",
   "language": "python",
   "name": "python3"
  },
  "language_info": {
   "codemirror_mode": {
    "name": "ipython",
    "version": 2
   },
   "file_extension": ".py",
   "mimetype": "text/x-python",
   "name": "python",
   "nbconvert_exporter": "python",
   "pygments_lexer": "ipython2",
   "version": "2.7.6"
  }
 },
 "nbformat": 4,
 "nbformat_minor": 0
}