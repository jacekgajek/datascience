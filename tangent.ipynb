{
 "cells": [
  {
   "cell_type": "code",
   "execution_count": null,
   "metadata": {
    "collapsed": true,
    "pycharm": {
     "name": "#%%\n"
    }
   },
   "outputs": [],
   "source": [
    "\n",
    "\n",
    "import plotly.express as px\n",
    "import numpy as np\n",
    "\n",
    "\n",
    "def f(x):\n",
    "    return  0.005 * x**4 - 2*x**3 + 7 *  x - 5\n",
    "\n",
    "def f_1(x):\n",
    "    return 0.020 * x**3 - 6* x**2 + 7\n",
    "\n",
    "def tangent(x, x0):\n",
    "    der = f_1(x0)\n",
    "    return der * x + f(x0) - x0*der\n",
    "\n",
    "\n",
    "X = np.linspace(-4, 4, 200)\n",
    "Y = [ f(x) for x in X ]\n",
    "\n",
    "tang = [ tangent(x, -2) for x in X ]\n",
    "# print(matrixNorm(M))\n",
    "\n",
    "\n",
    "fig = px.line(x=X, y=[Y, tang])\n",
    "\n",
    "fig.show()"
   ]
  }
 ],
 "metadata": {
  "kernelspec": {
   "display_name": "Python 3",
   "language": "python",
   "name": "python3"
  },
  "language_info": {
   "codemirror_mode": {
    "name": "ipython",
    "version": 2
   },
   "file_extension": ".py",
   "mimetype": "text/x-python",
   "name": "python",
   "nbconvert_exporter": "python",
   "pygments_lexer": "ipython2",
   "version": "2.7.6"
  }
 },
 "nbformat": 4,
 "nbformat_minor": 0
}