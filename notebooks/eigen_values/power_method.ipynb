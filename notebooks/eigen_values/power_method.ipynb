{
 "cells": [
  {
   "cell_type": "markdown",
   "source": [],
   "metadata": {
    "collapsed": false
   }
  },
  {
   "cell_type": "code",
   "execution_count": 54,
   "outputs": [
    {
     "name": "stdout",
     "output_type": "stream",
     "text": [
      "Steps: 500: err = 0.1059239, r= 5.6279451\n"
     ]
    },
    {
     "data": {
      "text/plain": "<IPython.core.display.Markdown object>",
      "text/markdown": "$$\\begin{align}||A-\\mu I||_\\infty=7.0, \\mu=0.0\\end{align}$$"
     },
     "metadata": {},
     "output_type": "display_data"
    },
    {
     "data": {
      "text/plain": "<IPython.core.display.Markdown object>",
      "text/markdown": "$$\\begin{align}\\lambda=5.627945, v_\\lambda = \\begin{bmatrix}0.91189\\\\1.0\\\\0.054652\\\\\\end{bmatrix}\\approx v_\\lambda^{100}\\begin{bmatrix}0.000124\\\\0.000102\\\\0.000233\\\\\\end{bmatrix}\\end{align}$$"
     },
     "metadata": {},
     "output_type": "display_data"
    },
    {
     "data": {
      "text/plain": "<IPython.core.display.Markdown object>",
      "text/markdown": "$$\\begin{align}v_\\lambda - v_\\lambda^{100}=\\begin{bmatrix}0.911767\\\\0.999898\\\\0.054419\\\\\\end{bmatrix}\\end{align}$$"
     },
     "metadata": {},
     "output_type": "display_data"
    },
    {
     "name": "stdout",
     "output_type": "stream",
     "text": [
      "Steps: 11: err = 0.0000000, r= 9.4671434\n"
     ]
    },
    {
     "data": {
      "text/plain": "<IPython.core.display.Markdown object>",
      "text/markdown": "$$\\begin{align}||A-\\mu I||_\\infty=7.0, \\mu=5.0\\end{align}$$"
     },
     "metadata": {},
     "output_type": "display_data"
    },
    {
     "data": {
      "text/plain": "<IPython.core.display.Markdown object>",
      "text/markdown": "$$\\begin{align}\\lambda=9.467143, v_\\lambda = \\begin{bmatrix}-0.566207\\\\1.0\\\\0.165436\\\\\\end{bmatrix}\\approx v_\\lambda^{100}\\begin{bmatrix}-0.566207\\\\1.0\\\\0.165436\\\\\\end{bmatrix}\\end{align}$$"
     },
     "metadata": {},
     "output_type": "display_data"
    },
    {
     "data": {
      "text/plain": "<IPython.core.display.Markdown object>",
      "text/markdown": "$$\\begin{align}v_\\lambda - v_\\lambda^{100}=\\begin{bmatrix}0.0\\\\0.0\\\\0.0\\\\\\end{bmatrix}\\end{align}$$"
     },
     "metadata": {},
     "output_type": "display_data"
    },
    {
     "name": "stdout",
     "output_type": "stream",
     "text": [
      "Steps: 22: err = 0.0000000, r= 14.4671435\n"
     ]
    },
    {
     "data": {
      "text/plain": "<IPython.core.display.Markdown object>",
      "text/markdown": "$$\\begin{align}||A-\\mu I||_\\infty=11.0, \\mu=10.0\\end{align}$$"
     },
     "metadata": {},
     "output_type": "display_data"
    },
    {
     "data": {
      "text/plain": "<IPython.core.display.Markdown object>",
      "text/markdown": "$$\\begin{align}\\lambda=14.467143, v_\\lambda = \\begin{bmatrix}0.566207\\\\-1.0\\\\-0.165436\\\\\\end{bmatrix}\\approx v_\\lambda^{100}\\begin{bmatrix}0.566207\\\\-1.0\\\\-0.165436\\\\\\end{bmatrix}\\end{align}$$"
     },
     "metadata": {},
     "output_type": "display_data"
    },
    {
     "data": {
      "text/plain": "<IPython.core.display.Markdown object>",
      "text/markdown": "$$\\begin{align}v_\\lambda - v_\\lambda^{100}=\\begin{bmatrix}0.0\\\\0.0\\\\0.0\\\\\\end{bmatrix}\\end{align}$$"
     },
     "metadata": {},
     "output_type": "display_data"
    }
   ],
   "source": [
    "import numpy as np\n",
    "import notebooks.latex_utils as latex\n",
    "\n",
    "def vector_norm_2(vector: np.ndarray):\n",
    "    return np.sqrt(np.sum(np.array([ x**2 for x in vector ])))\n",
    "\n",
    "def vector_norm_inf(vector: np.ndarray):\n",
    "    return np.max([ abs(x) for x in vector])\n",
    "\n",
    "def matrix_norm(A: np.ndarray):\n",
    "    return np.max([ abs(x) for x in A])\n",
    "\n",
    "rnd = np.random.RandomState(2)\n",
    "\n",
    "#{{3.0, -2, 1, 4},{-2, -6, 2, -1},{1, 2, -2, 5},{4, -1, 5, -7}}\n",
    "A: np.ndarray = np.array([\n",
    "    [3.0, -2, 1, 4],\n",
    "    [-2, -6, 2, -1],\n",
    "    [1, 2, -2, 5],\n",
    "    [4, -1, 5, -7]\n",
    "])\n",
    "X: np.ndarray = np.array([1.0, 1, -1, -1]).T\n",
    "\n",
    "N = 100\n",
    "# A = np.array( [ np.floor(rnd.random(N) * 20) - 10 for _ in range(0, N) ] )\n",
    "# X = (np.floor(rnd.random(N) * 20) - 10).T\n",
    "\n",
    "# A = np.array([\n",
    "#     [ 5.0, 4, 1, 1],\n",
    "#     [ 4, 5, 1, 1 ],\n",
    "#     [ 1, 1, 4, 2 ],\n",
    "#     [ 1, 1, 2, 4 ]\n",
    "# ])\n",
    "# { {  5.0, 4, 1, 1 }, { 4, 5, 1, 1 }, { 1, 1, 4, 2 }, { 1, 1, 2, 4 } }\n",
    "# X: np.ndarray = np.array([-1.0, -1, 1, 1]).T\n",
    "\n",
    "A = np.array([\n",
    "    [ 2, 3, 4 ],\n",
    "    [ 7, -1, 3],\n",
    "    [ 1, -1, 5]\n",
    "])\n",
    "# { {  5.0, 4, 1, 1 }, { 4, 5, 1, 1 }, { 1, 1, 4, 2 }, { 1, 1, 2, 4 } }\n",
    "X: np.ndarray = np.array([1.0, 2, 3]).T\n",
    "def power_method(A: np.ndarray, X: np.ndarray, aitken: bool = False):\n",
    "    err = 1.0\n",
    "    k = 1\n",
    "    prevR = None\n",
    "    prev2R = None\n",
    "    W = X\n",
    "    r = 0.0\n",
    "    while err > 0.0000001 and k < 500:\n",
    "        Y = A @ X\n",
    "        r = vector_norm_2(Y) / vector_norm_2(X)\n",
    "        X = Y / vector_norm_inf(Y)\n",
    "        # Aitken doens't work\n",
    "        if aitken and prev2R is not None:\n",
    "            dr = prevR - prev2R\n",
    "            dr2 = r - 2 * prevR + prev2R\n",
    "            r = r - dr * dr / dr2\n",
    "        # print(X)\n",
    "        # print(f\"Step: {k}: err = {err:.7f}, r= {r:.7f}\")\n",
    "        if prevR is not None:\n",
    "            err = abs(r - prevR)\n",
    "        k = k + 1\n",
    "        prev2R = prevR\n",
    "        prevR = r\n",
    "\n",
    "    print(f\"Steps: {k}: err = {err:.7f}, r= {r:.7f}\")\n",
    "    return r, np.array([X]).T\n",
    "\n",
    "\n",
    "def check(A: np.ndarray, eigValue: np.ndarray, eigVector: np.ndarray):\n",
    "    v = eigVector.copy()\n",
    "    p = 100\n",
    "    for i in range(0, p):\n",
    "        # print(v.T)\n",
    "        v = A @ v / eigValue# / 0.4\n",
    "\n",
    "    latex.print_latex(r\"\\lambda=\" + str(np.round(eigValue, 6)) + r\", v_\\lambda = \" + latex.matrix(np.round(eigVector, 6)) + r\"\\approx v_\\lambda^{\" + str(p) + \"}\" + latex.matrix(np.round(v, 6)))\n",
    "    latex.print_latex(r\"v_\\lambda - v_\\lambda^{\" + str(p) + \"}=\" + latex.matrix(0.0 + np.round(eigVector - v, 6)))\n",
    "    # print(0.0 + np.round(eigVector - v, 6))\n",
    "\n",
    "def shift_matrix(A: np.ndarray, shift: float):\n",
    "    n = X.size\n",
    "    return A - np.diag([shift for _ in range(n)])\n",
    "\n",
    "\n",
    "# shifts = [ 0., 3., 6., 11.]\n",
    "shifts = [ 0., 5., 10. ]\n",
    "# shifts = [ 0. ]\n",
    "# A= A/matrix_norm(A)\n",
    "for shift in shifts:\n",
    "    As: np.ndarray = shift_matrix(A, shift)\n",
    "    eigValue, eigVector = power_method(As, X, False)\n",
    "    latex.print_latex(r\"||A-\\mu I||_\\infty=\" + str(matrix_norm(As)) + r\", \\mu=\" + str(shift))\n",
    "    check(As, eigValue, eigVector)\n",
    "\n",
    "# latex.print_latex(\"A = \" + latex.matrix(A))\n",
    "# latex.print_latex(f\"\\lambda = {eigValue}\")\n"
   ],
   "metadata": {
    "collapsed": false
   }
  }
 ],
 "metadata": {
  "kernelspec": {
   "display_name": "Python 3",
   "language": "python",
   "name": "python3"
  },
  "language_info": {
   "codemirror_mode": {
    "name": "ipython",
    "version": 2
   },
   "file_extension": ".py",
   "mimetype": "text/x-python",
   "name": "python",
   "nbconvert_exporter": "python",
   "pygments_lexer": "ipython2",
   "version": "2.7.6"
  }
 },
 "nbformat": 4,
 "nbformat_minor": 0
}
