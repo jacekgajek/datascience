{
 "cells": [
  {
   "cell_type": "code",
   "execution_count": 9,
   "outputs": [
    {
     "data": {
      "text/plain": "<IPython.core.display.Math object>",
      "text/latex": "$\\displaystyle ||v||_4$"
     },
     "metadata": {},
     "output_type": "display_data"
    },
    {
     "name": "stdout",
     "output_type": "stream",
     "text": [
      "10\n"
     ]
    }
   ],
   "source": [
    "import plotly.express as px\n",
    "import numpy as np\n",
    "import IPython.display as dis\n",
    "\n",
    "# \\[\\|v||_4\\]\n",
    "dis.display(dis.Math(r'||v||_4 = '))\n",
    "\n",
    "def vetorNorm2(vector: np.ndarray):\n",
    "    return np.sqrt(np.sum(np.array([ x**2 for x in vector ])))\n",
    "\n",
    "def vetorNorm2_tr(vector: np.ndarray):\n",
    "    return np.sqrt(np.sum(np.array([ x**2 for x in vector ])))\n",
    "\n",
    "\n",
    "def vetorNormInf(vector: np.ndarray):\n",
    "    return np.max([ abs(x) for x in vector])\n",
    "\n",
    "def matrixNorm(A: np.ndarray):\n",
    "    return np.max([ abs(x) for x in A])\n",
    "\n",
    "M = np.array([\n",
    "    [4, -5,  7],\n",
    "    [1,  3,  -10],\n",
    "    [3,  0,  1]\n",
    "])\n",
    "\n",
    "v = np.array([4, 15])\n",
    "\n",
    "print(matrixNorm(M))"
   ],
   "metadata": {
    "collapsed": false,
    "pycharm": {
     "name": "#%%\n"
    }
   }
  }
 ],
 "metadata": {
  "kernelspec": {
   "display_name": "Python 3",
   "language": "python",
   "name": "python3"
  },
  "language_info": {
   "codemirror_mode": {
    "name": "ipython",
    "version": 2
   },
   "file_extension": ".py",
   "mimetype": "text/x-python",
   "name": "python",
   "nbconvert_exporter": "python",
   "pygments_lexer": "ipython2",
   "version": "2.7.6"
  }
 },
 "nbformat": 4,
 "nbformat_minor": 0
}