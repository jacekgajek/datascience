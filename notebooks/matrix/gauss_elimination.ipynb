{
 "cells": [
  {
   "cell_type": "markdown",
   "source": [
    "## Gauss Elimination\n",
    "Given equation\n",
    "\n",
    "$$Ax=b$$\n",
    "\n",
    "like\n",
    "\n",
    "$$\n",
    "\\begin{bmatrix}\n",
    "6 & -2 & 2 & 4\\\\\n",
    "12 & -8 & 6 & 10\\\\\n",
    "3 & -13 & 9 & 3\\\\\n",
    "-6 & 4 & 1 & -18\\\\\n",
    "\\end{bmatrix}\n",
    "\\begin{bmatrix}\n",
    "x_1\\\\\n",
    "x_2\\\\\n",
    "x_3\\\\\n",
    "x_4\n",
    "\\end{bmatrix}\n",
    "=\n",
    "\\begin{bmatrix}\n",
    "12\\\\\n",
    "34\\\\\n",
    "27\\\\\n",
    "-38\n",
    "\\end{bmatrix}\n",
    "$$\n",
    "\n",
    "the Gauss elimination turns it to an equivalent (ie having the same solution) equation\n",
    "\n",
    "$$Ux=b^\\star$$\n",
    "\n",
    "where\n",
    "\n",
    "$$\n",
    "U =\n",
    "\\begin{bmatrix}\n",
    "u_1_1 & u_1_2 & \\dots & u_1_n \\\\\n",
    "0 & u_2_2  & \\dots & u_2_n \\\\\n",
    "\\vdots & \\vdots   & \\ddots &  \\vdots & \\\\\n",
    "0& 0 & \\dots & u_n_n\\\\\n",
    "\\end{bmatrix}\n",
    "$$\n",
    "In the above example it will be\n",
    "$$\n",
    "\\begin{bmatrix}\n",
    "6 & -2 & 2 & 4\\\\\n",
    "0 & -4 & 2 & 2\\\\\n",
    "0 & 0 & 2 & -5\\\\\n",
    "0 & 0 & 0 & -3\\\\\n",
    "\\end{bmatrix}\n",
    "\\begin{bmatrix}\n",
    "x_1\\\\\n",
    "x_2\\\\\n",
    "x_3\\\\\n",
    "x_4\n",
    "\\end{bmatrix}\n",
    "=\n",
    "\\begin{bmatrix}\n",
    "12\\\\\n",
    "10\\\\\n",
    "-9\\\\\n",
    "-3\n",
    "\\end{bmatrix}\n",
    "$$\n",
    "which is very easy to solve with a backward substitution: $x_4= 1$, $2x_3-5\\cdot1 = -9$ so $x_3=-2$ etc.\n"
   ],
   "metadata": {
    "collapsed": false,
    "pycharm": {
     "name": "#%% md\n"
    }
   }
  },
  {
   "cell_type": "code",
   "execution_count": 1,
   "outputs": [
    {
     "data": {
      "text/plain": "<IPython.core.display.Markdown object>",
      "text/markdown": "$$\\begin{align}Ax = b\\end{align}$$"
     },
     "metadata": {},
     "output_type": "display_data"
    },
    {
     "data": {
      "text/plain": "<IPython.core.display.Markdown object>",
      "text/markdown": "$$\\begin{align}x = \\begin{bmatrix}-46.96314102564103&111.08173076923079&160.47115384615387&48.75000000000001\\\\\\end{bmatrix}\\end{align}$$"
     },
     "metadata": {},
     "output_type": "display_data"
    },
    {
     "data": {
      "text/plain": "<IPython.core.display.Markdown object>",
      "text/markdown": "$$\\begin{align}L = \\begin{bmatrix}1.0&0.0&0.0&0.0\\\\0.5&1.0&0.0&0.0\\\\-1.0&-0.16666666666666666&1.0&0.0\\\\2.0&0.3333333333333333&-0.15384615384615383&1.0\\\\\\end{bmatrix}\\end{align}$$"
     },
     "metadata": {},
     "output_type": "display_data"
    },
    {
     "data": {
      "text/plain": "<IPython.core.display.Markdown object>",
      "text/markdown": "$$\\begin{align}U = \\begin{bmatrix}6.0&-2.0&2.0&4.0\\\\0.0&-12.0&8.0&1.0\\\\0.0&0.0&4.333333333333333&-13.833333333333334\\\\0.0&0.0&0.0&-0.46153846153846145\\\\\\end{bmatrix}\\end{align}$$"
     },
     "metadata": {},
     "output_type": "display_data"
    },
    {
     "data": {
      "text/plain": "<IPython.core.display.Markdown object>",
      "text/markdown": "$$\\begin{align}P = \\begin{bmatrix}1.0&0.0&0.0&0.0\\\\0.0&0.0&1.0&0.0\\\\0.0&0.0&0.0&1.0\\\\0.0&1.0&0.0&0.0\\\\\\end{bmatrix}\\end{align}$$"
     },
     "metadata": {},
     "output_type": "display_data"
    },
    {
     "data": {
      "text/plain": "<IPython.core.display.Markdown object>",
      "text/markdown": "$$\\begin{align}A = \\begin{bmatrix}6.0&-2.0&2.0&4.0\\\\12.0&-8.0&6.0&10.0\\\\3.0&-13.0&9.0&3.0\\\\-6.0&4.0&1.0&-18.0\\\\\\end{bmatrix}\\end{align}$$"
     },
     "metadata": {},
     "output_type": "display_data"
    },
    {
     "data": {
      "text/plain": "<IPython.core.display.Markdown object>",
      "text/markdown": "$$\\begin{align}PA = \\begin{bmatrix}6.0&-2.0&2.0&4.0\\\\3.0&-13.0&9.0&3.0\\\\-6.0&4.0&1.0&-18.0\\\\12.0&-8.0&6.0&10.0\\\\\\end{bmatrix}\\end{align}$$"
     },
     "metadata": {},
     "output_type": "display_data"
    },
    {
     "data": {
      "text/plain": "<IPython.core.display.Markdown object>",
      "text/markdown": "$$\\begin{align}LU = \\begin{bmatrix}6.0&-2.0&2.0&4.0\\\\3.0&-13.0&9.0&3.0\\\\-6.0&4.0&1.0&-18.0\\\\12.0&-8.0&5.999999999999999&10.0\\\\\\end{bmatrix}\\end{align}$$"
     },
     "metadata": {},
     "output_type": "display_data"
    }
   ],
   "source": [
    "import notebooks.latex_utils as latex\n",
    "import numpy as np\n",
    "\n",
    "\n",
    "A = np.array(\n",
    "    [\n",
    "        [ 6., -2, 2, 4 ],\n",
    "        [ 12, -8, 6, 10 ],\n",
    "        [ 3, -13, 9, 3 ],\n",
    "        [ -6, 4,  1, -18 ]\n",
    "    ]\n",
    ")\n",
    "# A = np.array(\n",
    "#     [\n",
    "#         [ 2., 3, -6 ],\n",
    "#         [ 1, -6, 8],\n",
    "#         [ 3, -2, 1]\n",
    "#     ]\n",
    "# )\n",
    "\n",
    "# U = A.copy()\n",
    "# U[2,1] = 0.5\n",
    "# b = np.array(\n",
    "#     [ 12., 34, 27 ]\n",
    "# )\n",
    "b = np.array(\n",
    "    [ 12., 34, 27, -38 ]\n",
    ")\n",
    "\n",
    "def minor(A, i, j):\n",
    "    return np.delete(np.delete(A, i, 0), j, 1)\n",
    "\n",
    "def gauss(A: np.ndarray, b: np.ndarray):\n",
    "    \"\"\"\n",
    "    Gaussian elimination\n",
    "    :param A: Matrix with coefficients of a linear equation set\n",
    "    :param b: Vector of free constants ('right side')\n",
    "    :return: (L, U, b1) where A = LU and b1 is a transformed vector of the right side\n",
    "    \"\"\"\n",
    "    n, _ = np.shape(A)\n",
    "    U = A.copy()\n",
    "    L = np.diagflat([1. for _ in range(n)])\n",
    "    b1 = b.copy()\n",
    "    for i in range(n): # main row\n",
    "        main_element = U[i, i]\n",
    "        for j in range(i+1, n):  # rows\n",
    "            multiplier = U[j, i] / main_element\n",
    "            for k in range(i, n):  # columns\n",
    "                U[j, k] = U[j, k] - U[i, k] * multiplier\n",
    "            b1[j] = b1[j] - b1[i] * multiplier\n",
    "            L[j, i] = multiplier\n",
    "    return L, U, b1\n",
    "\n",
    "def scaled_gauss(A: np.ndarray, b: np.ndarray):\n",
    "    \"\"\"\n",
    "    Gaussian elimination with row scaling\n",
    "    :param A: Matrix with coefficients of a linear equation set\n",
    "    :param b: Vector of free constants ('right side')\n",
    "    :return: (P, L, U, b1) where PA = LU and b1 is a transformed vector of the right side\n",
    "    \"\"\"\n",
    "    n, _ = np.shape(A)\n",
    "    U = A.copy()\n",
    "    p = np.arange(n)\n",
    "    L = np.zeros(shape = (n, n))\n",
    "    s = [ np.max(np.abs(row)) for row in A ]\n",
    "    b1 = b.copy()\n",
    "    for i in range(n-1): # main row\n",
    "        r = [ np.abs(U[:, i][p[l]]) / s[p[l]] for l in range(i, n) ]\n",
    "        swapi = np.argmax(r) + i\n",
    "        temp = p[i]\n",
    "        p[i] = p[swapi]\n",
    "        p[swapi] = temp\n",
    "        main_element = U[p[i], i]\n",
    "        for j in range(i+1, n):  # rows\n",
    "            pj = p[j]\n",
    "            multiplier = U[pj, i] / main_element\n",
    "            for k in range(i, n):  # columns\n",
    "                U[pj, k] = U[pj, k] - U[p[i], k] * multiplier\n",
    "            b1[pj] = b1[pj] - b1[p[i]] * multiplier\n",
    "            L[pj, i] = multiplier\n",
    "    P = np.zeros(shape = (n, n))\n",
    "    for i in range(n):\n",
    "        P[i, p[i]] = 1\n",
    "    L = P@L + np.diagflat([1 for _ in range(n)])\n",
    "    return P, L, P@U, b1\n",
    "\n",
    "def solve_backward_substitution(A: np.ndarray, b: np.ndarray) -> np.ndarray:\n",
    "    \"\"\"\n",
    "    Solves a linear equation on assumption that A is an upper triangular matrix\n",
    "    :param A: an upper triangular matrix of coefficients\n",
    "    :param b: free variables\n",
    "    :return: Solution vector\n",
    "    \"\"\"\n",
    "    n, _ = np.shape(A)\n",
    "    x = np.ndarray(shape = n, dtype='float')\n",
    "    x[n - 1] =  b[n-1]/A[n-1, n-1]\n",
    "    for i in range(n-2, -1, -1):\n",
    "        summ = np.sum([A[i,j] * x[j] for j in range(i+1, n)])\n",
    "        x[i] = 1. / A[i,i] * (b[i] - summ)\n",
    "    return x\n",
    "\n",
    "def solve_forward_substitution(A: np.ndarray, b: np.ndarray) -> np.ndarray:\n",
    "    \"\"\"\n",
    "    Solves a linear equation on assumption that A is a lower triangular matrix\n",
    "    :param A: a lower triangular matrix of coefficients\n",
    "    :param b: free variables\n",
    "    :return: Solution vector\n",
    "    \"\"\"\n",
    "    return solve_backward_substitution(A.transpose(), b)\n",
    "\n",
    "latex.printlatex(\"Ax = b\")\n",
    "\n",
    "P, L, U, b1 = scaled_gauss(A, b)\n",
    "x = solve_backward_substitution(U, b1)\n",
    "latex.printlatex(\"x = \" + latex.latex_matrix(np.array([x])))\n",
    "latex.printlatex(\"L = \" + latex.latex_matrix(L))\n",
    "latex.printlatex(\"U = \" + latex.latex_matrix(U))\n",
    "latex.printlatex(\"P = \" + latex.latex_matrix(P))\n",
    "latex.printlatex(\"A = \" + latex.latex_matrix(A))\n",
    "\n",
    "latex.printlatex(\"PA = \" + latex.latex_matrix(P @ A))\n",
    "latex.printlatex(\"LU = \" + latex.latex_matrix(L @ U))\n",
    "\n",
    "\n",
    "# printlatex(latex_matrix(U) + r\"\\cdot \" + latex_matrix(np.array([x]).transpose()) + r\" =\" + latex_matrix(np.array([b1]).transpose()))\n",
    "# printlatex(\"A=LU=\" + latex_matrix(L) + r\"\\cdot \" +  latex_matrix(U))\n"
   ],
   "metadata": {
    "collapsed": false,
    "pycharm": {
     "name": "#%%\n"
    }
   }
  }
 ],
 "metadata": {
  "kernelspec": {
   "display_name": "Python 3",
   "language": "python",
   "name": "python3"
  },
  "language_info": {
   "codemirror_mode": {
    "name": "ipython",
    "version": 2
   },
   "file_extension": ".py",
   "mimetype": "text/x-python",
   "name": "python",
   "nbconvert_exporter": "python",
   "pygments_lexer": "ipython2",
   "version": "2.7.6"
  }
 },
 "nbformat": 4,
 "nbformat_minor": 0
}