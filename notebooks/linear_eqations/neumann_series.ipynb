{
 "cells": [
  {
   "cell_type": "markdown",
   "source": [
    "## Neumann Series\n",
    "\n",
    "If $A$ is an invertible (nondegenerate) matrix and $||A||<1$ for any norm $||\\cdot||$ then\n",
    "\n",
    "$$\n",
    "(I-A)^{-1} = \\sum_{k=0}^\\infty A^k\n",
    "$$\n",
    "\n",
    "The partial sums of Neumann series\n",
    "\n",
    "$$\n",
    "B_k = \\sum_{j=0}^k A^j\n",
    "$$\n",
    "\n",
    "can be calculated with the following iterative algorithm.\n",
    "\n",
    "$$\n",
    "B_0 = I\\\\\n",
    "B_{k+1}=I+A\\cdot B_{k}\n",
    "$$\n",
    "\n",
    "Therefore we can estimate $M^{-1}$ by calculating Neumann series for matrix $I - M$:\n",
    "\n",
    "$$\n",
    "M^{-1} = (I - (I - M))^{-1} \\approx \\sum_{j=0}^k (I-M)^j\n",
    "$$"
   ],
   "metadata": {
    "collapsed": false
   }
  },
  {
   "cell_type": "code",
   "execution_count": 25,
   "outputs": [
    {
     "data": {
      "text/plain": "<IPython.core.display.Markdown object>",
      "text/markdown": "$$\\begin{align}\\begin{bmatrix}0.9&-0.2&-0.3\\\\0.1&1.0&-0.1\\\\0.3&0.2&1.1\\\\\\end{bmatrix}\\end{align}$$"
     },
     "metadata": {},
     "output_type": "display_data"
    },
    {
     "data": {
      "text/plain": "<IPython.core.display.Markdown object>",
      "text/markdown": "$$\\begin{align}\\begin{bmatrix}1.0&0.14285714&0.28571429\\\\-0.125&0.96428571&0.05357143\\\\-0.25&-0.21428571&0.82142857\\\\\\end{bmatrix}\\end{align}$$"
     },
     "metadata": {},
     "output_type": "display_data"
    },
    {
     "data": {
      "text/plain": "<IPython.core.display.Markdown object>",
      "text/markdown": "$$\\begin{align}\\begin{bmatrix}1.0&0.0&0.0\\\\0.0&1.0&0.0\\\\0.0&0.0&1.0\\\\\\end{bmatrix}\\end{align}$$"
     },
     "metadata": {},
     "output_type": "display_data"
    },
    {
     "data": {
      "text/plain": "[None, None, None]"
     },
     "execution_count": 25,
     "metadata": {},
     "output_type": "execute_result"
    }
   ],
   "source": [
    "import numpy as np\n",
    "import notebooks.latex_utils as latex\n",
    "\n",
    "def unitar_array(n: int) -> np.ndarray:\n",
    "    I = np.zeros((n, n))\n",
    "    for i in range(0, n):\n",
    "        I[i, i] = 1\n",
    "    return I\n",
    "\n",
    "def neumann_partial_sum(A: np.ndarray, k: int) -> np.ndarray:\n",
    "    n, _ = A.shape\n",
    "    I = unitar_array(n)\n",
    "    B = I.copy()\n",
    "    for i in range(0, k+1):\n",
    "        B = I + A @ B\n",
    "    return B\n",
    "\n",
    "n = 3\n",
    "M = np.array([\n",
    "    [ 0.9, -0.2, -0.3 ],\n",
    "    [ 0.1, 1.0, -0.1 ],\n",
    "    [ 0.3, 0.2, 1.1 ]\n",
    "])\n",
    "\n",
    "I = unitar_array(3)\n",
    "\n",
    "A = I - M\n",
    "\n",
    "invM = neumann_partial_sum(A, 19)\n",
    "\n",
    "[ latex.print_latex(latex.matrix(np.round(m, 8) + 0)) for m in [ M, invM, invM @ M ]]\n"
   ],
   "metadata": {
    "collapsed": false
   }
  }
 ],
 "metadata": {
  "kernelspec": {
   "display_name": "Python 3",
   "language": "python",
   "name": "python3"
  },
  "language_info": {
   "codemirror_mode": {
    "name": "ipython",
    "version": 2
   },
   "file_extension": ".py",
   "mimetype": "text/x-python",
   "name": "python",
   "nbconvert_exporter": "python",
   "pygments_lexer": "ipython2",
   "version": "2.7.6"
  }
 },
 "nbformat": 4,
 "nbformat_minor": 0
}
