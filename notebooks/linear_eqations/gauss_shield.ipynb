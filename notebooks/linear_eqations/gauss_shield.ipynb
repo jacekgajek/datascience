{
 "cells": [
  {
   "cell_type": "code",
   "execution_count": 17,
   "metadata": {
    "collapsed": true,
    "pycharm": {
     "name": "#%%\n"
    }
   },
   "outputs": [
    {
     "name": "stdout",
     "output_type": "stream",
     "text": [
      "0) [ 0.42857143 -0.06349206]\n",
      "10) [ 0.21506707 -0.25327372]\n",
      "20) [ 0.2009932  -0.26578382]\n",
      "30) [ 0.20006547 -0.26660847]\n",
      "40) [ 0.20000432 -0.26666283]\n",
      "50) [ 0.20000028 -0.26666641]\n",
      "60) [ 0.20000002 -0.26666665]\n"
     ]
    },
    {
     "data": {
      "text/plain": "array([ 0.2       , -0.26666666])"
     },
     "execution_count": 17,
     "metadata": {},
     "output_type": "execute_result"
    }
   ],
   "source": [
    "import notebooks.latex_utils as latex\n",
    "import numpy as np\n",
    "\n",
    "A = np.array([\n",
    "    [7., -6],\n",
    "    [-8, 9]\n",
    "])\n",
    "\n",
    "b = np.array(\n",
    "    [3., -4]\n",
    ")\n",
    "\n",
    "def check_solution(A: np.ndarray, b: np.ndarray, x: np.ndarray):\n",
    "    n, _ = A.shape\n",
    "    e = 0\n",
    "    for i in range(n):\n",
    "        summ = np.sum([ x[j]* A[i,j] for j in range(n)])\n",
    "        e += abs(b[i] - summ)\n",
    "    return e\n",
    "\n",
    "def normalize_diag(A: np.ndarray, b: np.ndarray):\n",
    "    n, _ = A.shape\n",
    "    Anorm = np.zeros(shape=A.shape)\n",
    "    bnorm = np.zeros(shape=b.shape)\n",
    "    for i in range(n):\n",
    "        d = 1.0/A[i, i]\n",
    "        for j in range(n):\n",
    "            Anorm[i, j] = d*A[i, j]\n",
    "        bnorm[i] = d*b[i]\n",
    "    return Anorm, bnorm\n",
    "\n",
    "\n",
    "def gauss_shield(A: np.ndarray, b: np.ndarray, x: np.ndarray, N: int):\n",
    "    n, _ = A.shape\n",
    "    e = 10\n",
    "    k = 0\n",
    "    A, b = normalize_diag(A, b)\n",
    "    while e > 0.000000001 and k < N:\n",
    "        for i in range(n):\n",
    "            summ = np.sum([x[j] * A[i, j] for j in range(n) if j != i])\n",
    "            x[i] = b[i] - summ\n",
    "        if k % 10 == 0:\n",
    "            print(str(k) + \") \" + str(x))\n",
    "        e = check_solution(A, b, x)\n",
    "        k += 1\n",
    "    return x\n",
    "\n",
    "gauss_shield(A, b, np.zeros(b.size), 100)\n",
    "\n",
    "# 0) [ 0.42857143 -0.06349206]\n",
    "# 10) [ 0.21506707 -0.25327372]\n",
    "# 20) [ 0.2009932  -0.26578382]\n",
    "# 30) [ 0.20006547 -0.26660847]\n",
    "# 40) [ 0.20000432 -0.26666283]\n",
    "# 50) [ 0.20000028 -0.26666641]\n",
    "\n",
    "\n"
   ]
  }
 ],
 "metadata": {
  "kernelspec": {
   "display_name": "Python 3",
   "language": "python",
   "name": "python3"
  },
  "language_info": {
   "codemirror_mode": {
    "name": "ipython",
    "version": 2
   },
   "file_extension": ".py",
   "mimetype": "text/x-python",
   "name": "python",
   "nbconvert_exporter": "python",
   "pygments_lexer": "ipython2",
   "version": "2.7.6"
  }
 },
 "nbformat": 4,
 "nbformat_minor": 0
}