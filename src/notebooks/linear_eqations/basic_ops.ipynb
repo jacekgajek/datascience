{
 "cells": [
  {
   "cell_type": "code",
   "execution_count": 1,
   "metadata": {
    "collapsed": true
   },
   "outputs": [
    {
     "name": "stdout",
     "output_type": "stream",
     "text": [
      "[[ 7.  2.  4.]\n",
      " [ 3.  0.  6.]\n",
      " [11.  4.  2.]]\n",
      "11\n"
     ]
    }
   ],
   "source": [
    "import numpy as np\n",
    "\n",
    "def multiply(A, B):\n",
    "    n, m = np.shape(A)\n",
    "    m1, k = np.shape(B)\n",
    "    if m1 != m:\n",
    "        raise ValueError(\"Incompatible matrix size. Must be m, n and n, k\")\n",
    "    C = np.ndarray(shape = (n, k))\n",
    "    for i in range(0, n):\n",
    "        for j in range(0, k):\n",
    "            s = 0\n",
    "            for a in range(0, m):\n",
    "                s = s + A[i][a] * B[a][j]\n",
    "            C[i][j] = s\n",
    "    return C\n",
    "\n",
    "def dot(x, y):\n",
    "    n = np.size(x)\n",
    "    if np.shape(x) != np.shape(y):\n",
    "        raise ValueError(\"Vectors must be of the same size.\")\n",
    "    return sum([ x[i] * y[i] for i in range(0,n)])\n",
    "\n",
    "A = [\n",
    "    [1,2],\n",
    "    [3,0],\n",
    "    [-1,4]\n",
    "]\n",
    "B = [\n",
    "    [1, 0, 2],\n",
    "    [3, 1, 1]\n",
    "]\n",
    "print(multiply(A, B))\n",
    "\n",
    "x = [1,2,0]\n",
    "y=[3,4,1]\n",
    "print(dot(x, y))\n"
   ]
  },
  {
   "cell_type": "code",
   "execution_count": null,
   "outputs": [],
   "source": [],
   "metadata": {
    "collapsed": false
   }
  }
 ],
 "metadata": {
  "kernelspec": {
   "display_name": "Python 3",
   "language": "python",
   "name": "python3"
  },
  "language_info": {
   "codemirror_mode": {
    "name": "ipython",
    "version": 2
   },
   "file_extension": ".py",
   "mimetype": "text/x-python",
   "name": "python",
   "nbconvert_exporter": "python",
   "pygments_lexer": "ipython2",
   "version": "2.7.6"
  }
 },
 "nbformat": 4,
 "nbformat_minor": 0
}
