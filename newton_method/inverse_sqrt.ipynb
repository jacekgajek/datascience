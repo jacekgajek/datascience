{
 "cells": [
  {
   "cell_type": "markdown",
   "source": [
    "$$||v||_4$$\n",
    "\n",
    "\n"
   ],
   "metadata": {
    "collapsed": false,
    "pycharm": {
     "name": "#%% md\n"
    }
   }
  },
  {
   "cell_type": "code",
   "execution_count": 64,
   "outputs": [
    {
     "name": "stdout",
     "output_type": "stream",
     "text": [
      "0.5016666666666667\n",
      "0.254155592469546\n",
      "0.13363545900533105\n",
      "0.07928946925700857\n",
      "0.06066476014115263\n",
      "0.05780577092860864\n",
      "0.05773507020802196\n",
      "0.057735026918978805\n",
      "Input         300\n",
      "Steps         9\n",
      "Result        0.057735026918978805\n",
      "Exact result  0.05773502691896257\n"
     ]
    }
   ],
   "source": [
    "import numpy as np\n",
    "R=300\n",
    "\n",
    "def f(R):\n",
    "    return 1/np.sqrt(R)\n",
    "\n",
    "err = 1\n",
    "x = 1\n",
    "steps = 1\n",
    "while err > 0.00001:\n",
    "    x1 = 0.5*(x + 1.0/(R * x))\n",
    "    err = abs(x1 - x)\n",
    "    x = x1\n",
    "    print(x)\n",
    "    steps = steps+1\n",
    "\n",
    "print(f\"Input         {R}\")\n",
    "print(f\"Steps         {steps}\")\n",
    "print(f\"Result        {x}\")\n",
    "print(f\"Exact result  {f(R)}\")\n"
   ],
   "metadata": {
    "collapsed": false,
    "pycharm": {
     "name": "#%%\n"
    }
   }
  }
 ],
 "metadata": {
  "kernelspec": {
   "display_name": "Python 3",
   "language": "python",
   "name": "python3"
  },
  "language_info": {
   "codemirror_mode": {
    "name": "ipython",
    "version": 2
   },
   "file_extension": ".py",
   "mimetype": "text/x-python",
   "name": "python",
   "nbconvert_exporter": "python",
   "pygments_lexer": "ipython2",
   "version": "2.7.6"
  }
 },
 "nbformat": 4,
 "nbformat_minor": 0
}